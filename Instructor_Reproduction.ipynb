{
  "cells": [
    {
      "cell_type": "markdown",
      "metadata": {
        "id": "o55aDSe4-4qf"
      },
      "source": [
        "Reproduction of experiments for InstructOR Embeddings on classification of sentences available in the below 2 datasets:\n",
        "\n",
        "1. [MTEB Emotion dataset](https://huggingface.co/datasets/mteb/emotion)\n",
        "2. [MTEB MTOP Domain](https://huggingface.co/datasets/mteb/mtop_domain/viewer/en)\n",
        "\n",
        "Steps to run the experiment:\n",
        "\n",
        "Step 1: Update parameters in the code cell for [MTEB Emotion classification](https://colab.research.google.com/drive/1jD8kxqu5dSFMvpSsX0N9yTWN9r3e43VM#scrollTo=_XboV6__tm5s&line=1&uniqifier=1) and [MTEB MTOP Domain Classification](https://colab.research.google.com/drive/1jD8kxqu5dSFMvpSsX0N9yTWN9r3e43VM#scrollTo=EiASp0ia44ci&line=2&uniqifier=1).The following parameters can be adjusted:\n",
        "\n",
        "\n",
        "1. Seed (seed)\n",
        "2. Batch Size (batch_size)\n",
        "3. Training Samples/label for logistic regression (samples_per_label)\n",
        "4. Number of Experiments per dataset (n_experiment)\n",
        "\n",
        "Step 2: Run all\n",
        "\n",
        "\n"
      ]
    },
    {
      "cell_type": "code",
      "execution_count": null,
      "metadata": {
        "colab": {
          "base_uri": "https://localhost:8080/"
        },
        "id": "OOvbeixHqe1a",
        "outputId": "a7b8c6b7-1b6a-482b-eb3c-8f8eb5b9918b"
      },
      "outputs": [],
      "source": [
        "!git clone https://github.com/chow12327/instructor-embedding.git"
      ]
    },
    {
      "cell_type": "code",
      "execution_count": null,
      "metadata": {
        "colab": {
          "base_uri": "https://localhost:8080/"
        },
        "id": "trDBo1UMq2Lp",
        "outputId": "988a35c4-7ec6-4727-b347-a58dacd6e07a"
      },
      "outputs": [],
      "source": [
        "!pip install -r /content/instructor-embedding/requirements.txt"
      ]
    },
    {
      "cell_type": "code",
      "execution_count": null,
      "metadata": {
        "colab": {
          "base_uri": "https://localhost:8080/"
        },
        "id": "XMvxJs0gq6gv",
        "outputId": "328eaf8e-3362-4111-a0d3-8284fec893d0"
      },
      "outputs": [],
      "source": [
        "!pip install InstructorEmbedding"
      ]
    },
    {
      "cell_type": "code",
      "execution_count": 4,
      "metadata": {
        "colab": {
          "base_uri": "https://localhost:8080/"
        },
        "id": "CRCMhJKetNHt",
        "outputId": "72cfc3a3-73d8-4b2d-dbf1-86953ad02084"
      },
      "outputs": [
        {
          "name": "stdout",
          "output_type": "stream",
          "text": [
            "Obtaining file:///Users/nidhichowdhry/Documents/GMU/CS%20678/Project/instructor-embedding/evaluation/MTEB\n",
            "  Installing build dependencies ... \u001b[?25ldone\n",
            "\u001b[?25h  Checking if build backend supports build_editable ... \u001b[?25ldone\n",
            "\u001b[?25h  Getting requirements to build editable ... \u001b[?25ldone\n",
            "\u001b[?25h  Installing backend dependencies ... \u001b[?25ldone\n",
            "\u001b[?25h  Preparing editable metadata (pyproject.toml) ... \u001b[?25ldone\n",
            "\u001b[?25hRequirement already satisfied: datasets>=2.2.0 in /Library/Frameworks/Python.framework/Versions/3.9/lib/python3.9/site-packages (from mteb==1.0.0) (2.14.6)\n",
            "Requirement already satisfied: pyarrow==8.0.0 in /Library/Frameworks/Python.framework/Versions/3.9/lib/python3.9/site-packages (from mteb==1.0.0) (8.0.0)\n",
            "Requirement already satisfied: jsonlines in /Library/Frameworks/Python.framework/Versions/3.9/lib/python3.9/site-packages (from mteb==1.0.0) (4.0.0)\n",
            "Requirement already satisfied: numpy in /Users/nidhichowdhry/Library/Python/3.9/lib/python/site-packages (from mteb==1.0.0) (1.26.0)\n",
            "Requirement already satisfied: requests>=2.26.0 in /Library/Frameworks/Python.framework/Versions/3.9/lib/python3.9/site-packages (from mteb==1.0.0) (2.31.0)\n",
            "Requirement already satisfied: scikit-learn>=1.0.2 in /Users/nidhichowdhry/Library/Python/3.9/lib/python/site-packages (from mteb==1.0.0) (1.3.1)\n",
            "Requirement already satisfied: scipy in /Users/nidhichowdhry/Library/Python/3.9/lib/python/site-packages (from mteb==1.0.0) (1.11.3)\n",
            "Requirement already satisfied: sentence-transformers>=2.2.0 in /Library/Frameworks/Python.framework/Versions/3.9/lib/python3.9/site-packages (from mteb==1.0.0) (2.2.2)\n",
            "Requirement already satisfied: torch in /Library/Frameworks/Python.framework/Versions/3.9/lib/python3.9/site-packages (from mteb==1.0.0) (2.1.0)\n",
            "Requirement already satisfied: tqdm in /Library/Frameworks/Python.framework/Versions/3.9/lib/python3.9/site-packages (from mteb==1.0.0) (4.66.1)\n",
            "Requirement already satisfied: rich in /Library/Frameworks/Python.framework/Versions/3.9/lib/python3.9/site-packages (from mteb==1.0.0) (13.6.0)\n",
            "Requirement already satisfied: dill<0.3.8,>=0.3.0 in /Library/Frameworks/Python.framework/Versions/3.9/lib/python3.9/site-packages (from datasets>=2.2.0->mteb==1.0.0) (0.3.7)\n",
            "Requirement already satisfied: pandas in /Users/nidhichowdhry/Library/Python/3.9/lib/python/site-packages (from datasets>=2.2.0->mteb==1.0.0) (2.1.1)\n",
            "Requirement already satisfied: xxhash in /Library/Frameworks/Python.framework/Versions/3.9/lib/python3.9/site-packages (from datasets>=2.2.0->mteb==1.0.0) (3.4.1)\n",
            "Requirement already satisfied: multiprocess in /Library/Frameworks/Python.framework/Versions/3.9/lib/python3.9/site-packages (from datasets>=2.2.0->mteb==1.0.0) (0.70.15)\n",
            "Requirement already satisfied: fsspec<=2023.10.0,>=2023.1.0 in /Library/Frameworks/Python.framework/Versions/3.9/lib/python3.9/site-packages (from fsspec[http]<=2023.10.0,>=2023.1.0->datasets>=2.2.0->mteb==1.0.0) (2023.9.2)\n",
            "Requirement already satisfied: aiohttp in /Library/Frameworks/Python.framework/Versions/3.9/lib/python3.9/site-packages (from datasets>=2.2.0->mteb==1.0.0) (3.8.6)\n",
            "Requirement already satisfied: huggingface-hub<1.0.0,>=0.14.0 in /Library/Frameworks/Python.framework/Versions/3.9/lib/python3.9/site-packages (from datasets>=2.2.0->mteb==1.0.0) (0.17.3)\n",
            "Requirement already satisfied: packaging in /Users/nidhichowdhry/Library/Python/3.9/lib/python/site-packages (from datasets>=2.2.0->mteb==1.0.0) (23.2)\n",
            "Requirement already satisfied: pyyaml>=5.1 in /Library/Frameworks/Python.framework/Versions/3.9/lib/python3.9/site-packages (from datasets>=2.2.0->mteb==1.0.0) (6.0.1)\n",
            "Requirement already satisfied: charset-normalizer<4,>=2 in /Library/Frameworks/Python.framework/Versions/3.9/lib/python3.9/site-packages (from requests>=2.26.0->mteb==1.0.0) (3.3.0)\n",
            "Requirement already satisfied: idna<4,>=2.5 in /Library/Frameworks/Python.framework/Versions/3.9/lib/python3.9/site-packages (from requests>=2.26.0->mteb==1.0.0) (2.10)\n",
            "Requirement already satisfied: urllib3<3,>=1.21.1 in /Library/Frameworks/Python.framework/Versions/3.9/lib/python3.9/site-packages (from requests>=2.26.0->mteb==1.0.0) (2.0.6)\n",
            "Requirement already satisfied: certifi>=2017.4.17 in /Library/Frameworks/Python.framework/Versions/3.9/lib/python3.9/site-packages (from requests>=2.26.0->mteb==1.0.0) (2023.7.22)\n",
            "Requirement already satisfied: joblib>=1.1.1 in /Users/nidhichowdhry/Library/Python/3.9/lib/python/site-packages (from scikit-learn>=1.0.2->mteb==1.0.0) (1.3.2)\n",
            "Requirement already satisfied: threadpoolctl>=2.0.0 in /Users/nidhichowdhry/Library/Python/3.9/lib/python/site-packages (from scikit-learn>=1.0.2->mteb==1.0.0) (3.2.0)\n",
            "Requirement already satisfied: transformers<5.0.0,>=4.6.0 in /Library/Frameworks/Python.framework/Versions/3.9/lib/python3.9/site-packages (from sentence-transformers>=2.2.0->mteb==1.0.0) (4.20.0)\n",
            "Requirement already satisfied: torchvision in /Library/Frameworks/Python.framework/Versions/3.9/lib/python3.9/site-packages (from sentence-transformers>=2.2.0->mteb==1.0.0) (0.16.0)\n",
            "Requirement already satisfied: nltk in /Library/Frameworks/Python.framework/Versions/3.9/lib/python3.9/site-packages (from sentence-transformers>=2.2.0->mteb==1.0.0) (3.8.1)\n",
            "Requirement already satisfied: sentencepiece in /Library/Frameworks/Python.framework/Versions/3.9/lib/python3.9/site-packages (from sentence-transformers>=2.2.0->mteb==1.0.0) (0.1.99)\n",
            "Requirement already satisfied: filelock in /Library/Frameworks/Python.framework/Versions/3.9/lib/python3.9/site-packages (from torch->mteb==1.0.0) (3.12.4)\n",
            "Requirement already satisfied: typing-extensions in /Users/nidhichowdhry/Library/Python/3.9/lib/python/site-packages (from torch->mteb==1.0.0) (4.8.0)\n",
            "Requirement already satisfied: sympy in /Library/Frameworks/Python.framework/Versions/3.9/lib/python3.9/site-packages (from torch->mteb==1.0.0) (1.12)\n",
            "Requirement already satisfied: networkx in /Library/Frameworks/Python.framework/Versions/3.9/lib/python3.9/site-packages (from torch->mteb==1.0.0) (3.2.1)\n",
            "Requirement already satisfied: jinja2 in /Library/Frameworks/Python.framework/Versions/3.9/lib/python3.9/site-packages (from torch->mteb==1.0.0) (3.1.2)\n",
            "Requirement already satisfied: attrs>=19.2.0 in /Library/Frameworks/Python.framework/Versions/3.9/lib/python3.9/site-packages (from jsonlines->mteb==1.0.0) (23.1.0)\n",
            "Requirement already satisfied: markdown-it-py>=2.2.0 in /Library/Frameworks/Python.framework/Versions/3.9/lib/python3.9/site-packages (from rich->mteb==1.0.0) (3.0.0)\n",
            "Requirement already satisfied: pygments<3.0.0,>=2.13.0 in /Users/nidhichowdhry/Library/Python/3.9/lib/python/site-packages (from rich->mteb==1.0.0) (2.16.1)\n",
            "Requirement already satisfied: multidict<7.0,>=4.5 in /Library/Frameworks/Python.framework/Versions/3.9/lib/python3.9/site-packages (from aiohttp->datasets>=2.2.0->mteb==1.0.0) (6.0.4)\n",
            "Requirement already satisfied: async-timeout<5.0,>=4.0.0a3 in /Library/Frameworks/Python.framework/Versions/3.9/lib/python3.9/site-packages (from aiohttp->datasets>=2.2.0->mteb==1.0.0) (4.0.3)\n",
            "Requirement already satisfied: yarl<2.0,>=1.0 in /Library/Frameworks/Python.framework/Versions/3.9/lib/python3.9/site-packages (from aiohttp->datasets>=2.2.0->mteb==1.0.0) (1.9.2)\n",
            "Requirement already satisfied: frozenlist>=1.1.1 in /Library/Frameworks/Python.framework/Versions/3.9/lib/python3.9/site-packages (from aiohttp->datasets>=2.2.0->mteb==1.0.0) (1.4.0)\n",
            "Requirement already satisfied: aiosignal>=1.1.2 in /Library/Frameworks/Python.framework/Versions/3.9/lib/python3.9/site-packages (from aiohttp->datasets>=2.2.0->mteb==1.0.0) (1.3.1)\n",
            "Requirement already satisfied: mdurl~=0.1 in /Library/Frameworks/Python.framework/Versions/3.9/lib/python3.9/site-packages (from markdown-it-py>=2.2.0->rich->mteb==1.0.0) (0.1.2)\n",
            "Requirement already satisfied: regex!=2019.12.17 in /Library/Frameworks/Python.framework/Versions/3.9/lib/python3.9/site-packages (from transformers<5.0.0,>=4.6.0->sentence-transformers>=2.2.0->mteb==1.0.0) (2023.10.3)\n",
            "Requirement already satisfied: tokenizers!=0.11.3,<0.13,>=0.11.1 in /Library/Frameworks/Python.framework/Versions/3.9/lib/python3.9/site-packages (from transformers<5.0.0,>=4.6.0->sentence-transformers>=2.2.0->mteb==1.0.0) (0.12.1)\n",
            "Requirement already satisfied: MarkupSafe>=2.0 in /Library/Frameworks/Python.framework/Versions/3.9/lib/python3.9/site-packages (from jinja2->torch->mteb==1.0.0) (2.1.3)\n",
            "Requirement already satisfied: click in /Library/Frameworks/Python.framework/Versions/3.9/lib/python3.9/site-packages (from nltk->sentence-transformers>=2.2.0->mteb==1.0.0) (8.1.7)\n",
            "Requirement already satisfied: python-dateutil>=2.8.2 in /Users/nidhichowdhry/Library/Python/3.9/lib/python/site-packages (from pandas->datasets>=2.2.0->mteb==1.0.0) (2.8.2)\n",
            "Requirement already satisfied: pytz>=2020.1 in /Users/nidhichowdhry/Library/Python/3.9/lib/python/site-packages (from pandas->datasets>=2.2.0->mteb==1.0.0) (2023.3.post1)\n",
            "Requirement already satisfied: tzdata>=2022.1 in /Users/nidhichowdhry/Library/Python/3.9/lib/python/site-packages (from pandas->datasets>=2.2.0->mteb==1.0.0) (2023.3)\n",
            "Requirement already satisfied: mpmath>=0.19 in /Library/Frameworks/Python.framework/Versions/3.9/lib/python3.9/site-packages (from sympy->torch->mteb==1.0.0) (1.3.0)\n",
            "Requirement already satisfied: pillow!=8.3.*,>=5.3.0 in /Library/Frameworks/Python.framework/Versions/3.9/lib/python3.9/site-packages (from torchvision->sentence-transformers>=2.2.0->mteb==1.0.0) (10.1.0)\n",
            "Requirement already satisfied: six>=1.5 in /Users/nidhichowdhry/Library/Python/3.9/lib/python/site-packages (from python-dateutil>=2.8.2->pandas->datasets>=2.2.0->mteb==1.0.0) (1.16.0)\n",
            "Building wheels for collected packages: mteb\n",
            "  Building editable for mteb (pyproject.toml) ... \u001b[?25ldone\n",
            "\u001b[?25h  Created wheel for mteb: filename=mteb-1.0.0-0.editable-py3-none-any.whl size=3238 sha256=f996fcdc404f404702f190647cc70ac1ab3747bc092bed15c7360857b0882044\n",
            "  Stored in directory: /private/var/folders/bm/86z3zxzj6pd_h3lv65x8wv140000gn/T/pip-ephem-wheel-cache-wq6ywe4y/wheels/ed/2f/7f/d3144c01b2713bfa2f5097752d4dd1ae6125cd8a0c12ad85f0\n",
            "Successfully built mteb\n",
            "Installing collected packages: mteb\n",
            "  Attempting uninstall: mteb\n",
            "    Found existing installation: mteb 1.0.0\n",
            "    Uninstalling mteb-1.0.0:\n",
            "      Successfully uninstalled mteb-1.0.0\n",
            "Successfully installed mteb-1.0.0\n"
          ]
        }
      ],
      "source": [
        "!pip install -e instructor-embedding/evaluation/MTEB"
      ]
    },
    {
      "cell_type": "code",
      "execution_count": 1,
      "metadata": {
        "colab": {
          "base_uri": "https://localhost:8080/"
        },
        "id": "_XboV6__tm5s",
        "outputId": "9eaf7add-a9c1-4399-8729-15fd684205d1"
      },
      "outputs": [
        {
          "name": "stdout",
          "output_type": "stream",
          "text": [
            "python: can't open file '/Users/nidhichowdhry/Documents/GMU/CS 678/Project/instructor-embedding/instructor-embedding/evaluation/MTEB/examples/evaluate_model.py': [Errno 2] No such file or directory\n"
          ]
        }
      ],
      "source": [
        "#provide multiple parameter values here.\n",
        "\n",
        "seeds = [120, 38]\n",
        "batchsizes = [32, 64]\n",
        "samplesperlabels = [8, 16]\n",
        "models = ['instructor-embedding/models/outputs_l2e4','instructor-embedding/models/outputs_l2e5',\n",
        "'instructor-embedding/models/outputs_seed30_l2e5','instructor-embedding/models/outputs_seed30_l2e4']\n",
        "\n",
        "for model in models:\n",
        "  for seed in seeds:\n",
        "    for batch_size in batchsizes:\n",
        "      for samplesperlabel in samplesperlabels:\n",
        "        !python instructor-embedding/evaluation/MTEB/examples/evaluate_model.py --model_name {model} --output_dir outputs --task_name 'EmotionClassification' --result_file results --batch_size {batch_size} --samples_per_label {samplesperlabel} --n_experiments 5 --seed {seed}"
      ]
    },
    {
      "cell_type": "code",
      "execution_count": null,
      "metadata": {
        "colab": {
          "base_uri": "https://localhost:8080/"
        },
        "id": "EiASp0ia44ci",
        "outputId": "1888e2c3-35e3-45fb-9436-dab87084a970"
      },
      "outputs": [],
      "source": [
        "#provide multiple parameter values here.\n",
        "seeds = [120, 38]\n",
        "batchsizes = [32, 64]\n",
        "samplesperlabels = [8, 16]\n",
        "models = ['instructor-embedding/models/outputs_l2e4','instructor-embedding/models/outputs_l2e5',\n",
        "'instructor-embedding/models/outputs_seed30_l2e5','instructor-embedding/models/outputs_seed30_l2e4']\n",
        "\n",
        "for model in models:\n",
        "  for seed in seeds:\n",
        "    for batch_size in batchsizes:\n",
        "      for samplesperlabel in samplesperlabels:\n",
        "        !python instructor-embedding/evaluation/MTEB/examples/evaluate_model.py --model_name {model} --output_dir outputs --task_name 'MTOPDomainClassification' --result_file results --batch_size {batch_size} --samples_per_label {samplesperlabel} --n_experiments 5 --seed {seed}\n"
      ]
    }
  ],
  "metadata": {
    "accelerator": "GPU",
    "colab": {
      "gpuType": "T4",
      "provenance": []
    },
    "kernelspec": {
      "display_name": "Python 3",
      "name": "python3"
    },
    "language_info": {
      "codemirror_mode": {
        "name": "ipython",
        "version": 3
      },
      "file_extension": ".py",
      "mimetype": "text/x-python",
      "name": "python",
      "nbconvert_exporter": "python",
      "pygments_lexer": "ipython3",
      "version": "3.9.7"
    }
  },
  "nbformat": 4,
  "nbformat_minor": 0
}
