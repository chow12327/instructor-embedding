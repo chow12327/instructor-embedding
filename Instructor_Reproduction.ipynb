{
  "cells": [
    {
      "cell_type": "markdown",
      "metadata": {
        "id": "o55aDSe4-4qf"
      },
      "source": [
        "Reproduction of experiments for InstructOR Embeddings on classification of sentences available in the below 2 datasets:\n",
        "\n",
        "1. [MTEB Emotion dataset](https://huggingface.co/datasets/mteb/emotion)\n",
        "2. [MTEB MTOP Domain](https://huggingface.co/datasets/mteb/mtop_domain/viewer/en)\n",
        "\n",
        "Steps to run the experiment:\n",
        "\n",
        "Step 1: Update parameters in the code cell for [MTEB Emotion classification](https://colab.research.google.com/drive/1jD8kxqu5dSFMvpSsX0N9yTWN9r3e43VM#scrollTo=_XboV6__tm5s&line=1&uniqifier=1) and [MTEB MTOP Domain Classification](https://colab.research.google.com/drive/1jD8kxqu5dSFMvpSsX0N9yTWN9r3e43VM#scrollTo=EiASp0ia44ci&line=2&uniqifier=1).The following parameters can be adjusted:\n",
        "\n",
        "\n",
        "1. Seed (seed)\n",
        "2. Batch Size (batch_size)\n",
        "3. Training Samples/label for logistic regression (samples_per_label)\n",
        "4. Number of Experiments per dataset (n_experiment)\n",
        "\n",
        "Step 2: Run all\n",
        "\n",
        "\n"
      ]
    },
    {
      "cell_type": "code",
      "execution_count": null,
      "metadata": {
        "colab": {
          "base_uri": "https://localhost:8080/"
        },
        "id": "OOvbeixHqe1a",
        "outputId": "a7b8c6b7-1b6a-482b-eb3c-8f8eb5b9918b"
      },
      "outputs": [],
      "source": [
        "!git clone https://github.com/chow12327/instructor-embedding.git"
      ]
    },
    {
      "cell_type": "code",
      "execution_count": null,
      "metadata": {
        "colab": {
          "base_uri": "https://localhost:8080/"
        },
        "id": "trDBo1UMq2Lp",
        "outputId": "988a35c4-7ec6-4727-b347-a58dacd6e07a"
      },
      "outputs": [],
      "source": [
        "!pip install -r /content/instructor-embedding/requirements.txt"
      ]
    },
    {
      "cell_type": "code",
      "execution_count": null,
      "metadata": {
        "colab": {
          "base_uri": "https://localhost:8080/"
        },
        "id": "XMvxJs0gq6gv",
        "outputId": "328eaf8e-3362-4111-a0d3-8284fec893d0"
      },
      "outputs": [],
      "source": [
        "!pip install InstructorEmbedding"
      ]
    },
    {
      "cell_type": "code",
      "execution_count": null,
      "metadata": {
        "colab": {
          "base_uri": "https://localhost:8080/"
        },
        "id": "CRCMhJKetNHt",
        "outputId": "72cfc3a3-73d8-4b2d-dbf1-86953ad02084"
      },
      "outputs": [],
      "source": [
        "!pip install -e instructor-embedding/evaluation/MTEB"
      ]
    },
    {
      "cell_type": "code",
      "execution_count": null,
      "metadata": {
        "colab": {
          "base_uri": "https://localhost:8080/"
        },
        "id": "_XboV6__tm5s",
        "outputId": "9eaf7add-a9c1-4399-8729-15fd684205d1"
      },
      "outputs": [],
      "source": [
        "#provide multiple parameter values here.\n",
        "\n",
        "seeds = [120, 38, 90, 19, 65]\n",
        "batchsizes = [32, 64, 128, 208, 320]\n",
        "samplesperlabels = [4, 8, 16, 32, 128]\n",
        "\n",
        "for seed in seeds:\n",
        "  for batch_size in batchsizes:\n",
        "      for samplesperlabel in samplesperlabels:\n",
        "        !python  instructor-embedding/evaluation/MTEB/examples/evaluate_model.py --model_name hkunlp/instructor-base --output_dir outputs --task_name 'EmotionClassification' --result_file results --batch_size {batch_size} --samples_per_label {samplesperlabel} --n_experiments 5 --seed {seed}"
      ]
    },
    {
      "cell_type": "code",
      "execution_count": null,
      "metadata": {
        "colab": {
          "base_uri": "https://localhost:8080/"
        },
        "id": "EiASp0ia44ci",
        "outputId": "1888e2c3-35e3-45fb-9436-dab87084a970"
      },
      "outputs": [],
      "source": [
        "#provide multiple parameter values here.\n",
        "seeds = [120, 38, 90, 19, 65]\n",
        "batchsizes = [32, 64, 128, 208, 320]\n",
        "samplesperlabels = [4, 8, 16, 32, 128]\n",
        "\n",
        "for seed in seeds:\n",
        "  for batch_size in batchsizes:\n",
        "      for samplesperlabel in samplesperlabels:\n",
        "        !python  instructor-embedding/evaluation/MTEB/examples/evaluate_model.py --model_name hkunlp/instructor-base --output_dir outputs --task_name 'MTOPDomainClassification' --result_file results --batch_size {batch_size} --samples_per_label {samplesperlabel} --n_experiments 5 --seed {seed}\n"
      ]
    }
  ],
  "metadata": {
    "accelerator": "GPU",
    "colab": {
      "gpuType": "T4",
      "provenance": []
    },
    "kernelspec": {
      "display_name": "Python 3",
      "name": "python3"
    },
    "language_info": {
      "name": "python"
    }
  },
  "nbformat": 4,
  "nbformat_minor": 0
}
