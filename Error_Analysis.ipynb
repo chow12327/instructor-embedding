{
 "cells": [
  {
   "cell_type": "markdown",
   "metadata": {},
   "source": [
    "Error Analysis for failures from Instructor Embeddings\n",
    "\n",
    "Sentence \"a\" were taken from the below corpus of sentences for which the instructor embedding model did not generate the correct embedding.\n",
    "\n",
    "Sentence \"b\" were taken from online MTEB Emotion and MTEM MTOP Domain datasets training corpus.\n",
    "\n",
    "#EmotionClassification - Sentences with Error Prediction\n",
    "# represent a sentence\n",
    "#   'im feeling rather rotten so im not very ambitious right now' '0' '0' '3'] \n",
    "#   'i dont blame it all to them and im not angry at them infact i feel fairly sympathetic for them'  '0' '2' '3']\n",
    "#   'i was feeling a little vain when i did this one' '0' '0' '3']\n",
    "#   'i feel tortured delilahlwl am considering i had one the other day about one of my closest friends raping and killing chicks'  '0' '3' '2']\n",
    "#   'i feel all weird when i have to meet w people i text but like dont talk face to face w' '0' '4' '5']]\n",
    "#   'i never make her separate from me because i don t ever want her to feel like i m ashamed with her' '0' '0' '3']\n",
    "#   'i explain why i clung to a relationship with a boy who was in many ways immature and uncommitted despite the excitement i should have been feeling for getting accepted into the masters program at the university of virginia' '0' '1' '2']\n",
    "#   'i left with my bouquet of red and yellow tulips under my arm feeling slightly more optimistic than when i arrived' '0' '1' '2']\n",
    "\n",
    "#MTOPDomainClassification - Sentences with Error Prediction\n",
    "# represent a sentence\n",
    "# 'contact Kinley with Messenger' '0' '1' '0']\n",
    "# 'were there any murders in Chicago last night?' '0' '10' '2']\n",
    "# 'Where are my friends on line' '0' '1' '7']\n",
    "# 'Can you get some more events similar to this please?' '0' '2' '10']\n",
    "# 'Details on where to vote' '0' '10' '2']\n",
    "# 'Can you tell me if Luci is online now' '0' '1' '0']\n"
   ]
  },
  {
   "cell_type": "code",
   "execution_count": 26,
   "metadata": {},
   "outputs": [
    {
     "name": "stdout",
     "output_type": "stream",
     "text": [
      "load INSTRUCTOR_Transformer\n",
      "max_seq_length  512\n",
      "[[0.82670796 0.78218955 0.80188084 0.79354805 0.8273926  0.76665705]\n",
      " [0.79335666 0.72951365 0.7366977  0.74643385 0.7555768  0.75111437]\n",
      " [0.8128535  0.76421785 0.776387   0.7855172  0.7823588  0.7852385 ]\n",
      " [0.8205864  0.7892111  0.81410724 0.7845837  0.81966245 0.7801005 ]\n",
      " [0.78912735 0.7302761  0.7667885  0.80179644 0.80706286 0.75526124]]\n"
     ]
    }
   ],
   "source": [
    "from sklearn.metrics.pairwise import cosine_similarity\n",
    "\n",
    "from InstructorEmbedding import INSTRUCTOR\n",
    "model = INSTRUCTOR('instructor-embedding/models/outputs_l2e4')\n",
    "\n",
    "sentences_a = [['Represent an emotion sentence for classifying if the sentence is positive or not: ','i was feeling a little vain when i did this one'], \n",
    "               ['Represent an emotion sentence for classifying if the sentence is positive or not: ', 'i will never leave her because i do not ever want her to feel like i m ashamed with her'] ,\n",
    "               ['Represent an emotion sentence for classifying if the sentence is positive or not: ', 'i can explain why i clung to a relationship with a boy who was in many ways immature and uncommitted, despite the excitement i should have been feeling for getting accepted into the masters program at the university of virginia'],\n",
    "               ['Represent an emotion sentence for classifying if the sentence is positive or not: ', 'i left with my bouquet of red and yellow tulips under my arm feeling more optimistic than when i arrived'],\n",
    "               ['Represent an emotion sentence for classifying if the sentence is positive or not: ', 'i feel weird when i have to meet with people i text but like dont talk face to face with']\n",
    "               ]\n",
    "               \n",
    "\n",
    "sentences_b = [['Represent an emotion sentence for classifying if the sentence is positive or not: ','i have also learned it takes a lot of effort and positive thinking for me not to break down in tears over feeling exhausted and guilty for not being a better mom'],\n",
    "                ['Represent an emotion sentence for classifying if the sentence is positive or not: ','i would feel lucky to call any of the materials and kits on your site mine they are just beautifully curated'],\n",
    "                ['Represent an emotion sentence for classifying if the sentence is positive or not: ','i write on this space i feel quite nostalgic and my mind races back to the good old days when i used this as a daily haven to park my learnings and memories'],\n",
    "                ['Represent an emotion sentence for classifying if the sentence is positive or not: ','i feel frustrated when i have new music and new lyrics that clearly have nothing to do with each other'],\n",
    "                ['Represent an emotion sentence for classifying if the sentence is positive or not: ','i didnt feel especially nervous in finland but when we landed in paris i was a little unsure about what would be ahead of us thought st grade student janne suominen'],\n",
    "                ['Represent an emotion sentence for classifying if the sentence is positive or not: ','i love a movie with a good feel to it that really keeps you enthralled and the road has just that']\n",
    "                ]\n",
    "\n",
    "embeddings_a = model.encode(sentences_a)\n",
    "embeddings_b = model.encode(sentences_b)\n",
    "similarities_ab = cosine_similarity(embeddings_a,embeddings_b)\n",
    "\n",
    "print(similarities_ab)"
   ]
  },
  {
   "cell_type": "code",
   "execution_count": 55,
   "metadata": {},
   "outputs": [
    {
     "name": "stdout",
     "output_type": "stream",
     "text": [
      "load INSTRUCTOR_Transformer\n",
      "max_seq_length  512\n",
      "[[0.8298709  0.85183084 0.7906909  0.7809844  0.7632296  0.79621595\n",
      "  0.79944193 0.81441236 0.8099271  0.75339717 0.78590965]\n",
      " [0.755489   0.7718065  0.8337654  0.7496637  0.7574127  0.79168755\n",
      "  0.80521905 0.8209943  0.78496134 0.72203016 0.7782397 ]\n",
      " [0.7923994  0.8474531  0.8234332  0.7565615  0.78911376 0.7651142\n",
      "  0.77807915 0.86248446 0.7869127  0.7390166  0.8038371 ]\n",
      " [0.8174352  0.805973   0.8292346  0.824013   0.76674217 0.80056685\n",
      "  0.82245255 0.83314157 0.82298577 0.7679136  0.7767013 ]\n",
      " [0.7715447  0.78668666 0.804753   0.7795147  0.7707533  0.77879596\n",
      "  0.7861475  0.8039083  0.81437385 0.754072   0.8058766 ]]\n"
     ]
    }
   ],
   "source": [
    "from sklearn.metrics.pairwise import cosine_similarity\n",
    "\n",
    "from InstructorEmbedding import INSTRUCTOR\n",
    "model = INSTRUCTOR('instructor-embedding/models/outputs_l2e4')\n",
    "\n",
    "sentences_a = [['represent a sentence: ','contact Kinley on messenger'], \n",
    "               ['represent a sentence: ', 'were there any murders in Chicago last night?'] ,\n",
    "               ['represent a sentence: ', 'Where are my friends on line'],\n",
    "               ['represent a sentence: ', 'Can you get some more events similar to this?'],\n",
    "               ['represent a sentence: ', 'Details on where to vote']\n",
    "               ]\n",
    "               \n",
    "\n",
    "sentences_b = [['represent a sentence: ','let\\'s start recording a video message for Sean'],\n",
    "                ['represent a sentence: ','Start a video chat with Scott and Tomas'],\n",
    "                ['represent a sentence: ','Parties in Los Angeles on New Year\\'s Eve'],\n",
    "                ['represent a sentence: ','create one timer for 60 seconds and a second for 17 minutes'],\n",
    "                ['represent a sentence: ','spotify play drake\\'s newest album'],\n",
    "                ['represent a sentence: ','should i take an umbrella today?'],\n",
    "                ['represent a sentence: ','Make a new alarm for tommorow night at 8pm.'],\n",
    "                ['represent a sentence: ','Do I have any friends that went to Humbolt State?'],\n",
    "                ['represent a sentence: ','Fix the reminder I have to take the dogs to the vet from 4pm to 5pm.'],\n",
    "                ['represent a sentence: ','How long do I bake a pound cake'],\n",
    "                ['represent a sentence: ','Where is Donald Trump traveling today']\n",
    "                ]\n",
    "\n",
    "embeddings_a = model.encode(sentences_a)\n",
    "embeddings_b = model.encode(sentences_b)\n",
    "similarities_ab = cosine_similarity(embeddings_a,embeddings_b)\n",
    "\n",
    "print(similarities_ab)\n",
    "\n"
   ]
  },
  {
   "cell_type": "markdown",
   "metadata": {},
   "source": [
    "Multi-linguality error analysis"
   ]
  },
  {
   "cell_type": "code",
   "execution_count": 22,
   "metadata": {},
   "outputs": [
    {
     "name": "stdout",
     "output_type": "stream",
     "text": [
      "load INSTRUCTOR_Transformer\n",
      "max_seq_length  256\n",
      "[[0.2657671  0.13184725]\n",
      " [0.29973844 0.11445978]]\n"
     ]
    }
   ],
   "source": [
    "from sklearn.metrics.pairwise import cosine_similarity\n",
    "\n",
    "from InstructorEmbedding import INSTRUCTOR\n",
    "model = INSTRUCTOR('chow12327/instructor_cmlm_wiki_multilingual')\n",
    "\n",
    "sentences_a = [['Represent an emotion sentence for classifying the emotion: ','मैं अपनी बांह के नीचे लाल और पीले ट्यूलिप के गुलदस्ते के साथ निकला, जब मैं पहुंचा था उससे थोड़ा अधिक आशावादी महसूस कर रहा था'],\n",
    "               ['Represent an emotion sentence for classifying the emotion: ','I left with a bouquet of red and yellow tulips under my arm, feeling a little more optimistic than when I arrived']]\n",
    "               \n",
    "\n",
    "sentences_b = [['Represent an emotion sentence for classifying the emotion: ','i am feeling a lot more appreciative today'],\n",
    "               ['Represent an emotion sentence for classifying the emotion: ','i feel permanently unimportant and i feel stupid']]\n",
    "\n",
    "embeddings_a = model.encode(sentences_a)\n",
    "embeddings_b = model.encode(sentences_b)\n",
    "similarities_ab = cosine_similarity(embeddings_a,embeddings_b)\n",
    "\n",
    "print(similarities_ab)\n"
   ]
  },
  {
   "cell_type": "markdown",
   "metadata": {},
   "source": [
    "Robustness Error Analysis"
   ]
  },
  {
   "cell_type": "code",
   "execution_count": 25,
   "metadata": {},
   "outputs": [
    {
     "name": "stdout",
     "output_type": "stream",
     "text": [
      "load INSTRUCTOR_Transformer\n",
      "max_seq_length  256\n",
      "[[0.5719714  0.17401397 0.43989173]\n",
      " [0.45472777 0.13053769 1.        ]\n",
      " [0.56102353 0.16391188 0.8323187 ]]\n"
     ]
    }
   ],
   "source": [
    "from sklearn.metrics.pairwise import cosine_similarity\n",
    "\n",
    "from InstructorEmbedding import INSTRUCTOR\n",
    "model = INSTRUCTOR('chow12327/instructor_cmlm_wiki_multilingual')\n",
    "\n",
    "sentences_a = [['represent a sentence: ','set a reminder tomorrow for Steve to call Steve about a ride to the pool on saturday'],\n",
    "               ['represent a sentence: ','set a reminder tomorrow for Alex to call Alex about a ride to the pool on saturday'],\n",
    "               ['represent a sentence: ','set a reminder tomorrow for Steve to call Alex about a ride to the pool on saturday']]\n",
    "               \n",
    "\n",
    "sentences_b = [['represent a sentence: ','set a reminder  tomorrow for jodie to call karen about a ride to the pool on saturday'],\n",
    "               ['represent a sentence: ','can you enable video call'],\n",
    "               ['represent a sentence: ','set a reminder tomorrow for Alex to call Alex about a ride to the pool on saturday']]\n",
    "\n",
    "embeddings_a = model.encode(sentences_a)\n",
    "embeddings_b = model.encode(sentences_b)\n",
    "similarities_ab = cosine_similarity(embeddings_a,embeddings_b)\n",
    "\n",
    "print(similarities_ab)\n"
   ]
  }
 ],
 "metadata": {
  "kernelspec": {
   "display_name": "Python 3",
   "language": "python",
   "name": "python3"
  },
  "language_info": {
   "codemirror_mode": {
    "name": "ipython",
    "version": 3
   },
   "file_extension": ".py",
   "mimetype": "text/x-python",
   "name": "python",
   "nbconvert_exporter": "python",
   "pygments_lexer": "ipython3",
   "version": "3.9.7"
  }
 },
 "nbformat": 4,
 "nbformat_minor": 2
}
